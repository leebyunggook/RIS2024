{
 "cells": [
  {
   "cell_type": "markdown",
   "metadata": {},
   "source": [
    "# 1.4.4 Smoothing Images"
   ]
  },
  {
   "cell_type": "markdown",
   "metadata": {},
   "source": [
    "## Kernel Convolution"
   ]
  },
  {
   "cell_type": "code",
   "execution_count": 1,
   "metadata": {},
   "outputs": [],
   "source": [
    "import cv2\n",
    "import numpy as np\n",
    "from matplotlib import pyplot as plt"
   ]
  },
  {
   "cell_type": "code",
   "execution_count": 2,
   "metadata": {},
   "outputs": [],
   "source": [
    "l=1\n",
    "kernel = np.array([[0,-1,0],[-1,4,-1],[0,-1,0]],np.float32)"
   ]
  },
  {
   "cell_type": "code",
   "execution_count": 3,
   "metadata": {},
   "outputs": [
    {
     "data": {
      "text/plain": [
       "array([[ 0., -1.,  0.],\n",
       "       [-1.,  4., -1.],\n",
       "       [ 0., -1.,  0.]], dtype=float32)"
      ]
     },
     "execution_count": 3,
     "metadata": {},
     "output_type": "execute_result"
    }
   ],
   "source": [
    "kernel"
   ]
  },
  {
   "cell_type": "code",
   "execution_count": 4,
   "metadata": {},
   "outputs": [],
   "source": [
    "img = np.random.randint(10, size=(12,12))\n",
    "#img = np.ones((10,10),np.float32)"
   ]
  },
  {
   "cell_type": "code",
   "execution_count": 5,
   "metadata": {},
   "outputs": [
    {
     "data": {
      "text/plain": [
       "array([[2, 1, 8, 7, 2, 8, 4, 4, 8, 6, 6, 0],\n",
       "       [7, 7, 9, 5, 6, 7, 6, 3, 1, 9, 0, 9],\n",
       "       [7, 7, 8, 0, 1, 1, 8, 1, 5, 9, 1, 9],\n",
       "       [6, 9, 7, 1, 0, 0, 6, 2, 8, 9, 7, 3],\n",
       "       [7, 7, 4, 0, 1, 4, 8, 1, 5, 7, 3, 6],\n",
       "       [2, 6, 9, 1, 0, 5, 8, 4, 0, 3, 5, 1],\n",
       "       [1, 8, 6, 7, 7, 7, 9, 5, 6, 0, 1, 9],\n",
       "       [0, 6, 4, 6, 8, 9, 2, 9, 3, 2, 5, 2],\n",
       "       [2, 7, 7, 0, 6, 4, 2, 0, 7, 7, 6, 2],\n",
       "       [3, 0, 4, 3, 5, 2, 1, 4, 4, 1, 7, 2],\n",
       "       [0, 3, 8, 9, 7, 4, 1, 0, 1, 1, 2, 7],\n",
       "       [3, 9, 3, 7, 1, 4, 8, 5, 7, 5, 4, 2]])"
      ]
     },
     "execution_count": 5,
     "metadata": {},
     "output_type": "execute_result"
    }
   ],
   "source": [
    "img"
   ]
  },
  {
   "cell_type": "code",
   "execution_count": 6,
   "metadata": {},
   "outputs": [],
   "source": [
    "h,w=img.shape"
   ]
  },
  {
   "cell_type": "code",
   "execution_count": 7,
   "metadata": {},
   "outputs": [
    {
     "name": "stdout",
     "output_type": "stream",
     "text": [
      "12 12\n"
     ]
    }
   ],
   "source": [
    "print(h,w)"
   ]
  },
  {
   "cell_type": "code",
   "execution_count": 8,
   "metadata": {},
   "outputs": [],
   "source": [
    "dst = np.zeros((h,w))"
   ]
  },
  {
   "cell_type": "code",
   "execution_count": 9,
   "metadata": {},
   "outputs": [],
   "source": [
    "for i in range(l,h-l):\n",
    "    for j in range(l,w-l):\n",
    "        t=0\n",
    "        for p in range(-l,l+1):\n",
    "            for q in range(-l,l+1):\n",
    "                t += kernel[p+l,q+l]*img[i+p,j+q]\n",
    "        dst[i,j]=t        "
   ]
  },
  {
   "cell_type": "code",
   "execution_count": 10,
   "metadata": {},
   "outputs": [
    {
     "data": {
      "text/plain": [
       "array([[2, 1, 8, 7, 2, 8, 4, 4, 8, 6, 6, 0],\n",
       "       [7, 7, 9, 5, 6, 7, 6, 3, 1, 9, 0, 9],\n",
       "       [7, 7, 8, 0, 1, 1, 8, 1, 5, 9, 1, 9],\n",
       "       [6, 9, 7, 1, 0, 0, 6, 2, 8, 9, 7, 3],\n",
       "       [7, 7, 4, 0, 1, 4, 8, 1, 5, 7, 3, 6],\n",
       "       [2, 6, 9, 1, 0, 5, 8, 4, 0, 3, 5, 1],\n",
       "       [1, 8, 6, 7, 7, 7, 9, 5, 6, 0, 1, 9],\n",
       "       [0, 6, 4, 6, 8, 9, 2, 9, 3, 2, 5, 2],\n",
       "       [2, 7, 7, 0, 6, 4, 2, 0, 7, 7, 6, 2],\n",
       "       [3, 0, 4, 3, 5, 2, 1, 4, 4, 1, 7, 2],\n",
       "       [0, 3, 8, 9, 7, 4, 1, 0, 1, 1, 2, 7],\n",
       "       [3, 9, 3, 7, 1, 4, 8, 5, 7, 5, 4, 2]])"
      ]
     },
     "execution_count": 10,
     "metadata": {},
     "output_type": "execute_result"
    }
   ],
   "source": [
    "img"
   ]
  },
  {
   "cell_type": "code",
   "execution_count": 11,
   "metadata": {},
   "outputs": [
    {
     "data": {
      "text/plain": [
       "array([[  0.,   0.,   0.,   0.,   0.,   0.,   0.,   0.,   0.,   0.,   0.,\n",
       "          0.],\n",
       "       [  0.,   4.,   8.,  -2.,   9.,   7.,   2.,   0., -21.,  20., -25.,\n",
       "          0.],\n",
       "       [  0.,  -3.,   9., -15.,  -3., -12.,  18., -14.,   1.,  12., -21.,\n",
       "          0.],\n",
       "       [  0.,   9.,   6.,  -3.,  -3., -11.,   6.,  -8.,  11.,   5.,  12.,\n",
       "          0.],\n",
       "       [  0.,   2.,  -7.,  -7.,   0.,   2.,  13., -15.,   4.,   8., -13.,\n",
       "          0.],\n",
       "       [  0.,  -2.,  19., -12., -14.,   1.,   6.,   2., -18.,   0.,  12.,\n",
       "          0.],\n",
       "       [  0.,  13.,  -4.,   8.,   6.,  -2.,  14.,  -8.,  16., -12., -15.,\n",
       "          0.],\n",
       "       [  0.,   5.,  -9.,   5.,   4.,  15., -21.,  26., -12.,  -7.,   9.,\n",
       "          0.],\n",
       "       [  0.,  13.,  13., -22.,   7.,  -3.,   1., -22.,  14.,  12.,   3.,\n",
       "          0.],\n",
       "       [  0., -17.,  -2.,  -6.,   2.,  -6.,  -5.,  11.,   3., -15.,  17.,\n",
       "          0.],\n",
       "       [  0.,  -5.,  13.,  11.,   9.,   2.,  -9., -11.,  -8.,  -5., -11.,\n",
       "          0.],\n",
       "       [  0.,   0.,   0.,   0.,   0.,   0.,   0.,   0.,   0.,   0.,   0.,\n",
       "          0.]])"
      ]
     },
     "execution_count": 11,
     "metadata": {},
     "output_type": "execute_result"
    }
   ],
   "source": [
    "dst"
   ]
  },
  {
   "cell_type": "code",
   "execution_count": 14,
   "metadata": {},
   "outputs": [],
   "source": [
    "img = cv2.imread('./Image/lena.png', 0)"
   ]
  },
  {
   "cell_type": "code",
   "execution_count": 15,
   "metadata": {},
   "outputs": [],
   "source": [
    "h,w=img.shape"
   ]
  },
  {
   "cell_type": "code",
   "execution_count": 16,
   "metadata": {},
   "outputs": [],
   "source": [
    "dst = np.zeros((h-2*l,w-2*l),np.uint8)"
   ]
  },
  {
   "cell_type": "code",
   "execution_count": 17,
   "metadata": {},
   "outputs": [],
   "source": [
    "for i in range(l,h-l):\n",
    "    for j in range(l,w-l):\n",
    "        t=0\n",
    "        for p in range(-l,l+1):\n",
    "            for q in range(-l,l+1):\n",
    "                t += kernel[p+l,q+l]*img[i+p,j+q]\n",
    "        dst[i-l,j-l]=t "
   ]
  },
  {
   "cell_type": "code",
   "execution_count": 18,
   "metadata": {},
   "outputs": [],
   "source": [
    "cv2.imshow('img',img)\n",
    "cv2.imshow('dst',dst)\n",
    "cv2.waitKey(0)\n",
    "cv2.destroyAllWindows()"
   ]
  },
  {
   "cell_type": "code",
   "execution_count": null,
   "metadata": {},
   "outputs": [],
   "source": []
  }
 ],
 "metadata": {
  "kernelspec": {
   "display_name": "Python 3",
   "language": "python",
   "name": "python3"
  },
  "language_info": {
   "codemirror_mode": {
    "name": "ipython",
    "version": 3
   },
   "file_extension": ".py",
   "mimetype": "text/x-python",
   "name": "python",
   "nbconvert_exporter": "python",
   "pygments_lexer": "ipython3",
   "version": "3.8.19"
  }
 },
 "nbformat": 4,
 "nbformat_minor": 4
}
